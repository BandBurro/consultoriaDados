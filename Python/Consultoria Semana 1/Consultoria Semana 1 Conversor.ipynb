{
 "cells": [
  {
   "cell_type": "markdown",
   "metadata": {
    "id": "_pr-hpFRJebV"
   },
   "source": [
    "# Conversor de temperatura"
   ]
  },
  {
   "cell_type": "code",
   "execution_count": null,
   "metadata": {},
   "outputs": [],
   "source": []
  },
  {
   "cell_type": "code",
   "execution_count": null,
   "metadata": {
    "id": "ug-EjIkrJMzF"
   },
   "outputs": [
    {
     "name": "stdout",
     "output_type": "stream",
     "text": [
      "minha calculadora de temperatura.\n"
     ]
    }
   ],
   "source": [
    "def start():\n",
    "  print (\"minha calculadora de temperatura.\")\n",
    "  temp = str(input('a temperatura a ser convertida e C ou F?'))\n",
    "  if temp == 'F' or 'f':\n",
    "    True\n",
    "    tempf = float(input('digite a temperatura em F'))\n",
    "    tempconvf = 5*(tempf-32)/9\n",
    "    print(tempconvf)\n",
    "    start()\n",
    "  elif temp == 'C' or 'c':\n",
    "    True\n",
    "    tempc = float(input('digite a temperatura em C'))\n",
    "    tempconvc = float(tempc*1.8)+32\n",
    "    print(tempconvc)\n",
    "    start()\n",
    "  else:\n",
    "    print('opcao invalida')\n",
    "    start()\n",
    "start()"
   ]
  }
 ],
 "metadata": {
  "colab": {
   "authorship_tag": "ABX9TyPW2xUxDChQQ/PEavkwnwji",
   "provenance": []
  },
  "kernelspec": {
   "display_name": "Python 3",
   "name": "python3"
  },
  "language_info": {
   "codemirror_mode": {
    "name": "ipython",
    "version": 3
   },
   "file_extension": ".py",
   "mimetype": "text/x-python",
   "name": "python",
   "nbconvert_exporter": "python",
   "pygments_lexer": "ipython3",
   "version": "3.11.9"
  }
 },
 "nbformat": 4,
 "nbformat_minor": 0
}
