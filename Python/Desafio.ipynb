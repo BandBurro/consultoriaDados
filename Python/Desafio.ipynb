{
 "cells": [
  {
   "cell_type": "code",
   "execution_count": null,
   "id": "a40c07ab",
   "metadata": {},
   "outputs": [
    {
     "data": {
      "application/vnd.microsoft.datawrangler.viewer.v0+json": {
       "columns": [
        {
         "name": "index",
         "rawType": "int64",
         "type": "integer"
        },
        {
         "name": "ID",
         "rawType": "int64",
         "type": "integer"
        },
        {
         "name": "Nome",
         "rawType": "object",
         "type": "string"
        },
        {
         "name": "Preco",
         "rawType": "float64",
         "type": "float"
        },
        {
         "name": "Categoria",
         "rawType": "object",
         "type": "string"
        }
       ],
       "ref": "cbd9596b-6cc5-45ed-ba68-84dbebed885d",
       "rows": [
        [
         "0",
         "1",
         "Notebook Gamer",
         "5500.0",
         "Eletrônico"
        ],
        [
         "1",
         "2",
         "Mouse Wireless",
         "150.0",
         "Periférico"
        ],
        [
         "2",
         "3",
         "Teclado Mecânico",
         "350.0",
         "Periférico"
        ],
        [
         "3",
         "4",
         "Monitor 24 Polegadas",
         "900.0",
         "Eletrônico"
        ],
        [
         "4",
         "5",
         "Cadeira Gamer",
         "1200.0",
         "Móvel"
        ]
       ],
       "shape": {
        "columns": 4,
        "rows": 5
       }
      },
      "text/html": [
       "<div>\n",
       "<style scoped>\n",
       "    .dataframe tbody tr th:only-of-type {\n",
       "        vertical-align: middle;\n",
       "    }\n",
       "\n",
       "    .dataframe tbody tr th {\n",
       "        vertical-align: top;\n",
       "    }\n",
       "\n",
       "    .dataframe thead th {\n",
       "        text-align: right;\n",
       "    }\n",
       "</style>\n",
       "<table border=\"1\" class=\"dataframe\">\n",
       "  <thead>\n",
       "    <tr style=\"text-align: right;\">\n",
       "      <th></th>\n",
       "      <th>ID</th>\n",
       "      <th>Nome</th>\n",
       "      <th>Preco</th>\n",
       "      <th>Categoria</th>\n",
       "    </tr>\n",
       "  </thead>\n",
       "  <tbody>\n",
       "    <tr>\n",
       "      <th>0</th>\n",
       "      <td>1</td>\n",
       "      <td>Notebook Gamer</td>\n",
       "      <td>5500.0</td>\n",
       "      <td>Eletrônico</td>\n",
       "    </tr>\n",
       "    <tr>\n",
       "      <th>1</th>\n",
       "      <td>2</td>\n",
       "      <td>Mouse Wireless</td>\n",
       "      <td>150.0</td>\n",
       "      <td>Periférico</td>\n",
       "    </tr>\n",
       "    <tr>\n",
       "      <th>2</th>\n",
       "      <td>3</td>\n",
       "      <td>Teclado Mecânico</td>\n",
       "      <td>350.0</td>\n",
       "      <td>Periférico</td>\n",
       "    </tr>\n",
       "    <tr>\n",
       "      <th>3</th>\n",
       "      <td>4</td>\n",
       "      <td>Monitor 24 Polegadas</td>\n",
       "      <td>900.0</td>\n",
       "      <td>Eletrônico</td>\n",
       "    </tr>\n",
       "    <tr>\n",
       "      <th>4</th>\n",
       "      <td>5</td>\n",
       "      <td>Cadeira Gamer</td>\n",
       "      <td>1200.0</td>\n",
       "      <td>Móvel</td>\n",
       "    </tr>\n",
       "  </tbody>\n",
       "</table>\n",
       "</div>"
      ],
      "text/plain": [
       "   ID                  Nome   Preco   Categoria\n",
       "0   1        Notebook Gamer  5500.0  Eletrônico\n",
       "1   2        Mouse Wireless   150.0  Periférico\n",
       "2   3      Teclado Mecânico   350.0  Periférico\n",
       "3   4  Monitor 24 Polegadas   900.0  Eletrônico\n",
       "4   5         Cadeira Gamer  1200.0       Móvel"
      ]
     },
     "execution_count": 1,
     "metadata": {},
     "output_type": "execute_result"
    }
   ],
   "source": [
    "##import pandas as pd\n",
    "##dados = pd.read_csv(\"C:/Users/Matheus/OneDrive/Documents/MySQL/Dados/produtos.csv\")\n",
    "##dados"
   ]
  }
 ],
 "metadata": {
  "kernelspec": {
   "display_name": "Python 3",
   "language": "python",
   "name": "python3"
  },
  "language_info": {
   "codemirror_mode": {
    "name": "ipython",
    "version": 3
   },
   "file_extension": ".py",
   "mimetype": "text/x-python",
   "name": "python",
   "nbconvert_exporter": "python",
   "pygments_lexer": "ipython3",
   "version": "3.11.9"
  }
 },
 "nbformat": 4,
 "nbformat_minor": 5
}
